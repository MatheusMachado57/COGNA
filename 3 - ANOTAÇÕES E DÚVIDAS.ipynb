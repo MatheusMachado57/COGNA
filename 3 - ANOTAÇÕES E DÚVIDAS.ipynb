{
 "cells": [
  {
   "cell_type": "markdown",
   "id": "108035ef-c72a-4236-a811-d81e019129b7",
   "metadata": {},
   "source": [
    "## ANOTAÇÕES"
   ]
  },
  {
   "cell_type": "markdown",
   "id": "b763c5fe-74e0-4f52-b621-52a2c4473eb0",
   "metadata": {},
   "source": [
    "Abaixo algumas suposições que fiz a erspeito do projeto.\n",
    "\n",
    "1. A CAR (Correção Automática de Redação) deve ser realizada na linguagem Python.\n",
    "\n",
    "2. Por melhor e mais sofisticado que possa vir a ser o processo de correção das redações, é necessário que a redação passe por pelo menos uma avaliação humana que verifique os resultados e se certifique de que haja um mínimo de coerência com os critérios estabelecidos. Sobretudo quando se trata de avaliar a quinta competência pedida na redação do ENEM, Proposta de Intervenção.\n",
    "\n",
    "3. Teremos acesso a uma quantiadde mínima de redações que virão com notas já atribuídas para cada critério de interesse, de modo que essas redações poderão ser usadas para o treinamento de um modelo de machine learning.\n",
    "\n",
    "4. Teremos algum tempo entre o momento em que teremos acesso as redações já corrigidas e a data de entrega das redações que devem passar pelo nosso processo de CAR."
   ]
  },
  {
   "cell_type": "markdown",
   "id": "7f8f63fd-b66d-4fbe-adc8-c5c090c86372",
   "metadata": {},
   "source": [
    "## DÚVIDAS"
   ]
  },
  {
   "cell_type": "markdown",
   "id": "61543ecc-000a-42c6-8fc5-ff4f2be03431",
   "metadata": {},
   "source": [
    "1. Seria possível influenciar nas regras da redação que está sendo escrita?\n",
    "\n",
    "   (Pois para facilitar a correção da mesma, seria ótimo se existisse regras como, por exemplo, \"Toda citação deve ser posta entre aspas duplas\". A indentificação de determinados desvios, como os de gênero, seria mais fácil se pudéssemos utilizar uma lista de palavras ou algo similar, o que pode gerar resultados errados caso o candidato use palavras de um gênero diferente do pedido dentro de uma citação.)\n",
    "\n",
    "2. Qual a nível de processamento ao qual teríamos acesso se fosse o caso de levarmos esse peojeto a sério? Teríamos acesso a uma máquina capaz de processar uma quantidade de dados realmente grande (BigData)?\n",
    "\n",
    "3. Qual a quantidade, qualidade e variadade de dados n[os ter[iamos acesso durante o projeto em quest'ao"
   ]
  },
  {
   "cell_type": "code",
   "execution_count": null,
   "id": "69fe1782-853d-4bcb-898c-e03352e22f6c",
   "metadata": {},
   "outputs": [],
   "source": []
  }
 ],
 "metadata": {
  "kernelspec": {
   "display_name": "Python 3 (ipykernel)",
   "language": "python",
   "name": "python3"
  },
  "language_info": {
   "codemirror_mode": {
    "name": "ipython",
    "version": 3
   },
   "file_extension": ".py",
   "mimetype": "text/x-python",
   "name": "python",
   "nbconvert_exporter": "python",
   "pygments_lexer": "ipython3",
   "version": "3.12.3"
  }
 },
 "nbformat": 4,
 "nbformat_minor": 5
}
