{
 "cells": [
  {
   "cell_type": "markdown",
   "id": "7e183706-b94f-4121-83d3-2797cd6c348e",
   "metadata": {},
   "source": [
    "# ATIVIDADE"
   ]
  },
  {
   "cell_type": "markdown",
   "id": "4c05d733-5cf6-4129-8079-2f5af61b1be5",
   "metadata": {},
   "source": [
    "Olá, Matheus\n",
    "\n",
    "Parabéns por avançar no nosso processo seletivo!\n",
    "\n",
    "Neste desafio você deverá apresentar o domínio de um case e o conjunto de dados relacionado. \n",
    "\n",
    "Contextualização - Correção Automática de Redações\n",
    "\n",
    "Em Processamento de Língua Natural (PLN), uma solução completa de Correção Automática de Redação deve contemplar pelo menos três etapas básicas:\n",
    "\n",
    "1.            A detecção de desvios no texto;\n",
    "\n",
    "2.            A atribuição da nota, seja ela global ou por critério de avaliação; e\n",
    "\n",
    "3.            A elaboração de um feedback para o aluno.\n",
    "\n",
    "O Exame Nacional do Ensino Médio (Enem) é uma prova do Governo Federal que avalia o desempenho escolar dos estudantes ao término do Ensino Médio. Essa prova avalia várias áreas do conhecimento e, também, a produção de uma redação. Com mais de 3,9 milhões de inscritos em 2023, o Enem pode ser considerado o principal modelo de correção de redação no Brasil.\n",
    "\n",
    "No modelo de correção do Enem, o aluno deve produzir um texto do tipo dissertativo-argumentativo para um tema específico. A avaliação é dividida em 5 competências, cada uma no intervalo de notas de 0 a 200: \n",
    "\n",
    "(i). Língua Portuguesa,\n",
    "\n",
    "(ii). Tema e Gênero, \n",
    "\n",
    "(iii). Coerência, \n",
    "\n",
    "(iv). Coesão e \n",
    "\n",
    "(v). Proposta de Intervenção (sugestão de ação ou medida interventiva para solucionar ou minimizar o problema associado ao tema proposto). \n",
    "\n",
    "A soma direta das notas das competências leva à nota total, que fica no intervalo de 0 a 1000.\n",
    "\n",
    "Escopo e entrega\n",
    "\n",
    "Para o desafio, você deve:\n",
    "\n",
    "1.            Ler e entender a contextualização. Sinta-se à vontade para pesquisar mais sobre o assunto também;\n",
    "\n",
    "2.            Trabalhar na análise descritiva do conjunto público de redações Essay-br;\n",
    "\n",
    "3.            Fazer anotações de suas suposições e dúvidas quanto às etapas básicas da correção automática de redações;\n",
    "\n",
    "4.            Esboçar um plano de solução: por onde você começaria? Qual a stack tecnológica? Técnicas, features, algoritmos etc.\n",
    "\n",
    "Caso você queira tentar modelar o plano de solução, total ou parcialmente, você pode fazer isso. No entanto, o foco de avaliação será, principalmente, para os itens enumerados acima. \n",
    "\n",
    "Você deverá compartilhar conosco (repositório Git) os códigos produzidos e registro de esboço do plano de solução. Caso você tenha elaborado o esboço em papel, pode enviar uma foto anexa ao e-mail com indicação do repositório Git.\n",
    "\n",
    "Prazo para entrega:\n",
    "\n",
    "O prazo para a devolução será sexta-feira dia 06/12, até às 15:00.\n",
    "\n",
    "Ao finalizar o desafio, por favor, responda a todos neste e-mail.\n",
    "\n",
    "Obrigada por aceitar participar do nosso desafio!\n",
    "\n",
    "Atenciosamente,\n",
    "\n",
    " "
   ]
  },
  {
   "cell_type": "code",
   "execution_count": null,
   "id": "07ca3ee5-351f-41b2-8cb5-da04284b1c02",
   "metadata": {},
   "outputs": [],
   "source": []
  }
 ],
 "metadata": {
  "kernelspec": {
   "display_name": "Python 3 (ipykernel)",
   "language": "python",
   "name": "python3"
  },
  "language_info": {
   "codemirror_mode": {
    "name": "ipython",
    "version": 3
   },
   "file_extension": ".py",
   "mimetype": "text/x-python",
   "name": "python",
   "nbconvert_exporter": "python",
   "pygments_lexer": "ipython3",
   "version": "3.12.3"
  }
 },
 "nbformat": 4,
 "nbformat_minor": 5
}
