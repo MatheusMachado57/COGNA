{
 "cells": [
  {
   "cell_type": "markdown",
   "id": "997ef0e1-de38-484b-b2cc-9479c5396dbe",
   "metadata": {},
   "source": [
    "# CONTEXTO"
   ]
  },
  {
   "cell_type": "markdown",
   "id": "7fd2a6da-5d79-4c2b-adff-43d27559e8f3",
   "metadata": {},
   "source": [
    "## Correção Automática de Redações (CAR)"
   ]
  },
  {
   "cell_type": "markdown",
   "id": "be69379b-b9ac-4055-af91-61ef693b2de5",
   "metadata": {},
   "source": [
    "Inicialmente, os sistemas de correção eram baseados em regras simples de linguagem e palavras-chave, o que limitava a análise da redação a aspectos superficiais, como ortografia e gramática. Com o avanço do Processamento de Linguagem Natural (PLN) e o uso de modelos de aprendizado de máquina, como os baseados em redes neurais e transformers, a CAR passou a ser capaz de analisar aspectos mais complexos, como coerência textual, estrutura argumentativa e até mesmo a qualidade da proposta de intervenção. \n",
    "\n",
    "Alguns dos conceitos que evoluíram dentro do conceito de PLN foram o de proxies, que são variáveis fáceis de medir que indicam algo mais complexo, como o número de palavras por frase para a complexidade linguística, e os trims, que são variáveis latentes, mais difíceis de medir diretamente, como a coerência argumentativa, sendo inferidos por dados observáveis, como a organização das ideias.\n",
    "\n",
    "No caso da correção da redação do ENEM, os proxies podem ser usados para avaliar aspectos como a norma culta ou a estrutura do texto, enquanto os trims são necessários para medir aspectos mais subjetivos, como a coerência e a profundidade da argumentação. Ambos os conceitos ajudam a formar uma avaliação mais completa e precisa do texto."
   ]
  },
  {
   "cell_type": "markdown",
   "id": "f54e4f6d-2b69-437a-9138-679687b1d142",
   "metadata": {},
   "source": [
    "## ENEM - Redação"
   ]
  },
  {
   "cell_type": "markdown",
   "id": "e2775dad-1a0d-42c8-bf3b-04a8d1858e77",
   "metadata": {},
   "source": [
    "A redação do ENEM é do tipo dissertativo-argumentativo, ou seja, o candidato precisa defender uma ideia (tese) sobre o tema proposto. A avaliação considera cinco competências: o domínio da norma padrão do português, a compreensão do tema da redação, a organização e argumentação das ideias, o uso de referências culturais ou sociais de forma produtiva, e a apresentação de uma proposta de solução que respeite os direitos humanos. Cada competência é avaliada de 0 a 200 pontos, somando até 1000 pontos no total.\n",
    "\n",
    "O processo de correção dessas redações atualmente se dá por meio de dois agentes humanos já que, apesar dos in´pumeros avanços tecnológicos recentes, a contrução de um sistema capaz de fazer uma CAR não é trivial e nem barata, sem contar que tais processos de sistematização normalmente sofrem certo tipo de preconceito por parte da população."
   ]
  }
 ],
 "metadata": {
  "kernelspec": {
   "display_name": "Python 3 (ipykernel)",
   "language": "python",
   "name": "python3"
  },
  "language_info": {
   "codemirror_mode": {
    "name": "ipython",
    "version": 3
   },
   "file_extension": ".py",
   "mimetype": "text/x-python",
   "name": "python",
   "nbconvert_exporter": "python",
   "pygments_lexer": "ipython3",
   "version": "3.12.3"
  }
 },
 "nbformat": 4,
 "nbformat_minor": 5
}
