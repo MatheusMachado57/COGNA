{
 "cells": [
  {
   "cell_type": "markdown",
   "id": "997ef0e1-de38-484b-b2cc-9479c5396dbe",
   "metadata": {},
   "source": [
    "# CONTEXTO"
   ]
  },
  {
   "cell_type": "markdown",
   "id": "7fd2a6da-5d79-4c2b-adff-43d27559e8f3",
   "metadata": {},
   "source": [
    "## Correção Automática de Redações (CAR)"
   ]
  },
  {
   "cell_type": "markdown",
   "id": "be69379b-b9ac-4055-af91-61ef693b2de5",
   "metadata": {},
   "source": [
    "Inicialmente, os sistemas de correção automática de redações (CAR) baseavam-se em regras simples e palavras-chave, limitando-se à análise de aspectos superficiais, como ortografia e gramática. Com os avanços no Processamento de Linguagem Natural (PLN) e em modelos de aprendizado de máquina, por exemplo redes neurais e transformers, esses sistemas passaram a avaliar aspectos mais complexos, como coerência textual, estrutura argumentativa e a qualidade das ideias apresentadas.\n",
    "\n",
    "No campo do PLN, conceitos como proxies e trims têm sido fundamentais para a evolução das análises textuais. Proxies referem-se a variáveis observáveis e fáceis de medir, como o número de palavras por frase, que podem servir como indicadores indiretos de características mais complexas. Já as trims, como a coerência argumentativa, são variáveis latentes, características abstratas e difíceis de medir diretamente, sendo inferidas a partir de dados observáveis, como a estruturação e organização das ideias no texto.\n",
    "\n",
    "Uma sistema CAR deve possuir pelo menos três etapas básicas, a detecção de desvios no texto, a atribuição da nota, seja ela global ou por critério, e\n",
    "um feedback para o aluno.\n",
    "\n",
    "No caso da correção da redação do ENEM, os proxies podem ser usados para avaliar aspectos como a norma culta ou a estrutura do texto, enquanto os trims são necessários para medir aspectos mais subjetivos, como a coerência e a profundidade da argumentação. Ambos os conceitos ajudam a formar uma avaliação mais completa e precisa do texto."
   ]
  },
  {
   "cell_type": "markdown",
   "id": "f54e4f6d-2b69-437a-9138-679687b1d142",
   "metadata": {},
   "source": [
    "## ENEM - Redação"
   ]
  },
  {
   "cell_type": "markdown",
   "id": "e2775dad-1a0d-42c8-bf3b-04a8d1858e77",
   "metadata": {},
   "source": [
    "Uma redação é um texto escrito em que o autor organiza suas ideias de maneira coerente, clara e lógica para abordar um tema específico. \n",
    "\n",
    "A redação do ENEM é do tipo dissertativo-argumentativo, ou seja, o candidato precisa defender uma ideia (tese) sobre o tema proposto. A avaliação considera cinco competências: o domínio da norma padrão do português, a compreensão do tema da redação, a organização e argumentação das ideias, o uso de referências culturais ou sociais de forma produtiva, e a apresentação de uma proposta de solução que respeite os direitos humanos. Cada competência pode ter uma nota que vai de 0 a 200 pontos, somando até 1000 pontos no total.\n",
    "\n",
    "O processo de correção dessas redações atualmente se dá por meio de dois agentes humanos já que, apesar dos inúmeros avanços tecnológicos recentes, a contrução de um sistema de CAR não é trivial e nem barata, sem contar que tais processos de sistematização normalmente sofrem certo tipo de preconceito por parte da população."
   ]
  },
  {
   "cell_type": "code",
   "execution_count": null,
   "id": "6d076a57-d942-4c3a-8e93-e94f1ac9e8a0",
   "metadata": {},
   "outputs": [],
   "source": []
  }
 ],
 "metadata": {
  "kernelspec": {
   "display_name": "Python 3 (ipykernel)",
   "language": "python",
   "name": "python3"
  },
  "language_info": {
   "codemirror_mode": {
    "name": "ipython",
    "version": 3
   },
   "file_extension": ".py",
   "mimetype": "text/x-python",
   "name": "python",
   "nbconvert_exporter": "python",
   "pygments_lexer": "ipython3",
   "version": "3.12.3"
  }
 },
 "nbformat": 4,
 "nbformat_minor": 5
}
