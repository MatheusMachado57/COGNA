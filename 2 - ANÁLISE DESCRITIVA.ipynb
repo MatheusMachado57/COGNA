{
 "cells": [
  {
   "cell_type": "markdown",
   "id": "452ea61e-35af-43ed-836a-1939a535373b",
   "metadata": {},
   "source": [
    "### PACOTES"
   ]
  },
  {
   "cell_type": "code",
   "execution_count": 41,
   "id": "dfa4586c-9b6b-4c20-8214-c55d9357b051",
   "metadata": {},
   "outputs": [
    {
     "name": "stderr",
     "output_type": "stream",
     "text": [
      "[nltk_data] Downloading package stopwords to\n",
      "[nltk_data]     C:\\Users\\mathe\\AppData\\Roaming\\nltk_data...\n",
      "[nltk_data]   Package stopwords is already up-to-date!\n"
     ]
    },
    {
     "data": {
      "text/plain": [
       "True"
      ]
     },
     "execution_count": 41,
     "metadata": {},
     "output_type": "execute_result"
    }
   ],
   "source": [
    "import pandas as pd\n",
    "import numpy as np\n",
    "import seaborn as sns\n",
    "import matplotlib.pyplot as plt\n",
    "from sklearn.model_selection import train_test_split\n",
    "from collections import Counter\n",
    "import spacy\n",
    "import os\n",
    "import re\n",
    "import string\n",
    "import language_tool_python\n",
    "from spellchecker import SpellChecker\n",
    "from nltk.corpus import stopwords\n",
    "from tabulate import tabulate\n",
    "from scipy.stats import shapiro\n",
    "import nltk\n",
    "nlp = spacy.load(\"pt_core_news_sm\")\n",
    "nltk.download('stopwords')"
   ]
  },
  {
   "cell_type": "markdown",
   "id": "620d5cb9-c7b0-4e5c-9129-52dc8ba839cb",
   "metadata": {},
   "source": [
    "### ANÁLISE EXPLORATÓRIA"
   ]
  },
  {
   "cell_type": "code",
   "execution_count": 4,
   "id": "2e382d00-e3b2-421c-9086-455c65117763",
   "metadata": {},
   "outputs": [
    {
     "name": "stdout",
     "output_type": "stream",
     "text": [
      "   prompt                                            title  \\\n",
      "0      21  A greve dos caminhoneiros e a malha ferroviária   \n",
      "1      23                 Vossa excelência  Senador M. M.,   \n",
      "2      39                        A validade do impeachment   \n",
      "3      26      Podemos perceber que a sociedade brasileira   \n",
      "4       4              Comenta-se que o ex-presidente Lula   \n",
      "\n",
      "                                               essay  \\\n",
      "0  ['A grande importância dos caminhoneiros para ...   \n",
      "1  ['O senhor e eu já estamos cientes do projeto ...   \n",
      "2  ['É de conhecimento geral dos brasileiros o qu...   \n",
      "3  ['Podemos perceber que a sociedade brasileira ...   \n",
      "4  ['Comenta-se que o ex presidente Lula ex-presi...   \n",
      "\n",
      "                  competence  score  \n",
      "0  [160, 160, 120, 120, 120]    680  \n",
      "1  [160, 160, 120, 120, 120]    680  \n",
      "2  [120, 160, 160, 160, 120]    720  \n",
      "3   [120, 120, 80, 120, 120]    560  \n",
      "4            [0, 0, 0, 0, 0]      0  \n"
     ]
    }
   ],
   "source": [
    "df = pd.read_csv(r'C:\\Users\\mathe\\Área de Trabalho\\Cases\\COGNA\\essay-br\\essay-br.csv')\n",
    "print(df.head())"
   ]
  },
  {
   "cell_type": "markdown",
   "id": "1ec04fad-5476-4da2-b6d3-a25fd04413df",
   "metadata": {},
   "source": [
    "### POSSUEM TÍTULO OU NÃO"
   ]
  },
  {
   "cell_type": "code",
   "execution_count": 7,
   "id": "347a51b4-ece2-4e4e-a90d-ccef85c87f87",
   "metadata": {},
   "outputs": [
    {
     "name": "stdout",
     "output_type": "stream",
     "text": [
      "Possuem título: 684\n",
      "Não possuem título: 3886\n"
     ]
    }
   ],
   "source": [
    "vazias = df['title'].isna().sum()\n",
    "nao_vazias = df['title'].notna().sum()\n",
    "\n",
    "print(f\"Possuem título: {vazias}\")\n",
    "print(f\"Não possuem título: {nao_vazias}\")"
   ]
  },
  {
   "cell_type": "code",
   "execution_count": 9,
   "id": "2a7341de-5265-4c16-bf7f-ea7e3d4ac4fd",
   "metadata": {},
   "outputs": [
    {
     "name": "stdout",
     "output_type": "stream",
     "text": [
      "   prompt                                            title  \\\n",
      "0      21  A greve dos caminhoneiros e a malha ferroviária   \n",
      "1      23                 Vossa excelência  Senador M. M.,   \n",
      "2      39                        A validade do impeachment   \n",
      "3      26      Podemos perceber que a sociedade brasileira   \n",
      "4       4              Comenta-se que o ex-presidente Lula   \n",
      "\n",
      "                                               essay  \\\n",
      "0  ['A grande importância dos caminhoneiros para ...   \n",
      "1  ['O senhor e eu já estamos cientes do projeto ...   \n",
      "2  ['É de conhecimento geral dos brasileiros o qu...   \n",
      "3  ['Podemos perceber que a sociedade brasileira ...   \n",
      "4  ['Comenta-se que o ex presidente Lula ex-presi...   \n",
      "\n",
      "                  competence  score possui_titulo  \n",
      "0  [160, 160, 120, 120, 120]    680           Sim  \n",
      "1  [160, 160, 120, 120, 120]    680           Sim  \n",
      "2  [120, 160, 160, 160, 120]    720           Sim  \n",
      "3   [120, 120, 80, 120, 120]    560           Sim  \n",
      "4            [0, 0, 0, 0, 0]      0           Sim  \n"
     ]
    }
   ],
   "source": [
    "def vazio(texto):\n",
    "    if pd.isna(texto): \n",
    "        return 'Não'\n",
    "    return 'Sim'  \n",
    "\n",
    "df['possui_titulo'] = df['title'].apply(vazio)\n",
    "print(df.head())"
   ]
  },
  {
   "cell_type": "markdown",
   "id": "227cb449-ed4e-40c7-b5cf-646dab6db3a7",
   "metadata": {},
   "source": [
    "### QUANTIDADE DE PALAVRAS"
   ]
  },
  {
   "cell_type": "code",
   "execution_count": 12,
   "id": "895086ee-25e1-4a33-8d56-31a8870d8247",
   "metadata": {},
   "outputs": [
    {
     "name": "stdout",
     "output_type": "stream",
     "text": [
      "   prompt                                            title  \\\n",
      "0      21  A greve dos caminhoneiros e a malha ferroviária   \n",
      "1      23                 Vossa excelência  Senador M. M.,   \n",
      "2      39                        A validade do impeachment   \n",
      "3      26      Podemos perceber que a sociedade brasileira   \n",
      "4       4              Comenta-se que o ex-presidente Lula   \n",
      "\n",
      "                                               essay  \\\n",
      "0  ['A grande importância dos caminhoneiros para ...   \n",
      "1  ['O senhor e eu já estamos cientes do projeto ...   \n",
      "2  ['É de conhecimento geral dos brasileiros o qu...   \n",
      "3  ['Podemos perceber que a sociedade brasileira ...   \n",
      "4  ['Comenta-se que o ex presidente Lula ex-presi...   \n",
      "\n",
      "                  competence  score possui_titulo  quant_de_palavras  \n",
      "0  [160, 160, 120, 120, 120]    680           Sim                341  \n",
      "1  [160, 160, 120, 120, 120]    680           Sim                233  \n",
      "2  [120, 160, 160, 160, 120]    720           Sim                409  \n",
      "3   [120, 120, 80, 120, 120]    560           Sim                207  \n",
      "4            [0, 0, 0, 0, 0]      0           Sim                209  \n"
     ]
    }
   ],
   "source": [
    "def contar_palavras(texto):\n",
    "    if pd.isna(texto): \n",
    "        return 0\n",
    "    return len(texto.split())  \n",
    "\n",
    "df['quant_de_palavras'] = df['essay'].apply(contar_palavras)\n",
    "print(df.head())"
   ]
  },
  {
   "cell_type": "markdown",
   "id": "93ece27b-638e-4556-a105-bb5126e4b09c",
   "metadata": {},
   "source": [
    "### ZEROU A REDAÇÃO ?"
   ]
  },
  {
   "cell_type": "code",
   "execution_count": 15,
   "id": "9668e5b5-e42e-4bb7-a455-605c525021e5",
   "metadata": {},
   "outputs": [
    {
     "name": "stdout",
     "output_type": "stream",
     "text": [
      "   prompt                                            title  \\\n",
      "0      21  A greve dos caminhoneiros e a malha ferroviária   \n",
      "1      23                 Vossa excelência  Senador M. M.,   \n",
      "2      39                        A validade do impeachment   \n",
      "3      26      Podemos perceber que a sociedade brasileira   \n",
      "4       4              Comenta-se que o ex-presidente Lula   \n",
      "\n",
      "                                               essay  \\\n",
      "0  ['A grande importância dos caminhoneiros para ...   \n",
      "1  ['O senhor e eu já estamos cientes do projeto ...   \n",
      "2  ['É de conhecimento geral dos brasileiros o qu...   \n",
      "3  ['Podemos perceber que a sociedade brasileira ...   \n",
      "4  ['Comenta-se que o ex presidente Lula ex-presi...   \n",
      "\n",
      "                  competence  score possui_titulo  quant_de_palavras  Zero?  \n",
      "0  [160, 160, 120, 120, 120]    680           Sim                341      1  \n",
      "1  [160, 160, 120, 120, 120]    680           Sim                233      1  \n",
      "2  [120, 160, 160, 160, 120]    720           Sim                409      1  \n",
      "3   [120, 120, 80, 120, 120]    560           Sim                207      1  \n",
      "4            [0, 0, 0, 0, 0]      0           Sim                209      0  \n"
     ]
    }
   ],
   "source": [
    "def zero(score):\n",
    "    if score == 0: \n",
    "        return 0\n",
    "    return 1  \n",
    "\n",
    "df['Zero?'] = df['score'].apply(zero)\n",
    "print(df.head())"
   ]
  },
  {
   "cell_type": "markdown",
   "id": "d71c859d-0259-4e05-a1f6-cc38d8ddc9ff",
   "metadata": {},
   "source": [
    "### AS 5 COMPETÊNCIAS"
   ]
  },
  {
   "cell_type": "code",
   "execution_count": 18,
   "id": "04b1036a-67ce-4461-bd9a-b40e74d79646",
   "metadata": {},
   "outputs": [
    {
     "name": "stdout",
     "output_type": "stream",
     "text": [
      "   prompt                                            title  \\\n",
      "0      21  A greve dos caminhoneiros e a malha ferroviária   \n",
      "1      23                 Vossa excelência  Senador M. M.,   \n",
      "2      39                        A validade do impeachment   \n",
      "3      26      Podemos perceber que a sociedade brasileira   \n",
      "4       4              Comenta-se que o ex-presidente Lula   \n",
      "\n",
      "                                               essay  score possui_titulo  \\\n",
      "0  ['A grande importância dos caminhoneiros para ...    680           Sim   \n",
      "1  ['O senhor e eu já estamos cientes do projeto ...    680           Sim   \n",
      "2  ['É de conhecimento geral dos brasileiros o qu...    720           Sim   \n",
      "3  ['Podemos perceber que a sociedade brasileira ...    560           Sim   \n",
      "4  ['Comenta-se que o ex presidente Lula ex-presi...      0           Sim   \n",
      "\n",
      "   quant_de_palavras  Zero? Língua Port Tema e Gênero Coerência Coesão  \\\n",
      "0                341      1         160           160       120    120   \n",
      "1                233      1         160           160       120    120   \n",
      "2                409      1         120           160       160    160   \n",
      "3                207      1         120           120        80    120   \n",
      "4                209      0           0             0         0      0   \n",
      "\n",
      "  Prop de Interv  \n",
      "0            120  \n",
      "1            120  \n",
      "2            120  \n",
      "3            120  \n",
      "4              0  \n"
     ]
    }
   ],
   "source": [
    "df[['Língua Port', 'Tema e Gênero', 'Coerência', 'Coesão', 'Prop de Interv']] = df['competence'].str.split(',', expand=True)\n",
    "df['Língua Port']     = df['Língua Port'].str.replace('[', '', regex=False)\n",
    "df['Prop de Interv']  = df['Prop de Interv'].str.replace(']', '', regex=False)\n",
    "df = df.drop('competence', axis=1)\n",
    "\n",
    "print(df.head())"
   ]
  },
  {
   "cell_type": "markdown",
   "id": "ee686c91-371d-4dd1-876d-4e316e97e1c0",
   "metadata": {},
   "source": [
    "### PALAVRAS DISTINTAS"
   ]
  },
  {
   "cell_type": "code",
   "execution_count": 21,
   "id": "17561ca2-6da0-4205-bc0b-72c9b4e9becc",
   "metadata": {},
   "outputs": [
    {
     "name": "stdout",
     "output_type": "stream",
     "text": [
      "   prompt                                            title  \\\n",
      "0      21  A greve dos caminhoneiros e a malha ferroviária   \n",
      "1      23                 Vossa excelência  Senador M. M.,   \n",
      "2      39                        A validade do impeachment   \n",
      "3      26      Podemos perceber que a sociedade brasileira   \n",
      "4       4              Comenta-se que o ex-presidente Lula   \n",
      "\n",
      "                                               essay  score possui_titulo  \\\n",
      "0  ['A grande importância dos caminhoneiros para ...    680           Sim   \n",
      "1  ['O senhor e eu já estamos cientes do projeto ...    680           Sim   \n",
      "2  ['É de conhecimento geral dos brasileiros o qu...    720           Sim   \n",
      "3  ['Podemos perceber que a sociedade brasileira ...    560           Sim   \n",
      "4  ['Comenta-se que o ex presidente Lula ex-presi...      0           Sim   \n",
      "\n",
      "   quant_de_palavras  Zero? Língua Port Tema e Gênero Coerência Coesão  \\\n",
      "0                341      1         160           160       120    120   \n",
      "1                233      1         160           160       120    120   \n",
      "2                409      1         120           160       160    160   \n",
      "3                207      1         120           120        80    120   \n",
      "4                209      0           0             0         0      0   \n",
      "\n",
      "  Prop de Interv  Distintas  \n",
      "0            120        196  \n",
      "1            120        144  \n",
      "2            120        246  \n",
      "3            120        136  \n",
      "4              0        140  \n"
     ]
    }
   ],
   "source": [
    "def remove_punctuation(text):\n",
    "    if pd.notna(text):\n",
    "        return text.translate(str.maketrans('', '', string.punctuation))\n",
    "    return ''\n",
    "\n",
    "df['Distintas'] = df['essay'].apply(lambda x: len(set(remove_punctuation(x.lower()).split())) if pd.notna(x) else 0)\n",
    "\n",
    "print(df.head())"
   ]
  },
  {
   "cell_type": "markdown",
   "id": "af61e770-c1b2-44d0-afe7-acb8a5ef045f",
   "metadata": {},
   "source": [
    "### QUANTIDADE DE PALAVRAS ESCRITAS ERRADO"
   ]
  },
  {
   "cell_type": "code",
   "execution_count": 220,
   "id": "c8151471-455f-48e7-848b-a442a5af7474",
   "metadata": {},
   "outputs": [],
   "source": [
    "from concurrent.futures import ProcessPoolExecutor"
   ]
  },
  {
   "cell_type": "code",
   "execution_count": 27,
   "id": "11a005e4-6b6f-4a39-a1f1-5223113a48ae",
   "metadata": {},
   "outputs": [
    {
     "name": "stdout",
     "output_type": "stream",
     "text": [
      "\n",
      "Processando linhas 1 a 500...\n"
     ]
    },
    {
     "name": "stderr",
     "output_type": "stream",
     "text": [
      "Chunk 1: 100%|███████████████████████████████████████████████████████████████████████████████████████████████| 500/500 [04:09<00:00,  2.01it/s]\n"
     ]
    },
    {
     "name": "stdout",
     "output_type": "stream",
     "text": [
      "Arquivo 'dados_1.csv' salvo com sucesso!\n",
      "\n",
      "Processando linhas 501 a 1000...\n"
     ]
    },
    {
     "name": "stderr",
     "output_type": "stream",
     "text": [
      "Chunk 2: 100%|███████████████████████████████████████████████████████████████████████████████████████████████| 500/500 [04:12<00:00,  1.98it/s]\n"
     ]
    },
    {
     "name": "stdout",
     "output_type": "stream",
     "text": [
      "Arquivo 'dados_2.csv' salvo com sucesso!\n",
      "\n",
      "Processando linhas 1001 a 1500...\n"
     ]
    },
    {
     "name": "stderr",
     "output_type": "stream",
     "text": [
      "Chunk 3: 100%|███████████████████████████████████████████████████████████████████████████████████████████████| 500/500 [04:42<00:00,  1.77it/s]\n"
     ]
    },
    {
     "name": "stdout",
     "output_type": "stream",
     "text": [
      "Arquivo 'dados_3.csv' salvo com sucesso!\n",
      "\n",
      "Processando linhas 1501 a 2000...\n"
     ]
    },
    {
     "name": "stderr",
     "output_type": "stream",
     "text": [
      "Chunk 4: 100%|███████████████████████████████████████████████████████████████████████████████████████████████| 500/500 [04:33<00:00,  1.83it/s]\n"
     ]
    },
    {
     "name": "stdout",
     "output_type": "stream",
     "text": [
      "Arquivo 'dados_4.csv' salvo com sucesso!\n",
      "\n",
      "Processando linhas 2001 a 2500...\n"
     ]
    },
    {
     "name": "stderr",
     "output_type": "stream",
     "text": [
      "Chunk 5: 100%|███████████████████████████████████████████████████████████████████████████████████████████████| 500/500 [03:47<00:00,  2.20it/s]\n"
     ]
    },
    {
     "name": "stdout",
     "output_type": "stream",
     "text": [
      "Arquivo 'dados_5.csv' salvo com sucesso!\n",
      "\n",
      "Processando linhas 2501 a 3000...\n"
     ]
    },
    {
     "name": "stderr",
     "output_type": "stream",
     "text": [
      "Chunk 6: 100%|███████████████████████████████████████████████████████████████████████████████████████████████| 500/500 [03:47<00:00,  2.20it/s]\n"
     ]
    },
    {
     "name": "stdout",
     "output_type": "stream",
     "text": [
      "Arquivo 'dados_6.csv' salvo com sucesso!\n",
      "\n",
      "Processando linhas 3001 a 3500...\n"
     ]
    },
    {
     "name": "stderr",
     "output_type": "stream",
     "text": [
      "Chunk 7: 100%|███████████████████████████████████████████████████████████████████████████████████████████████| 500/500 [03:37<00:00,  2.30it/s]\n"
     ]
    },
    {
     "name": "stdout",
     "output_type": "stream",
     "text": [
      "Arquivo 'dados_7.csv' salvo com sucesso!\n",
      "\n",
      "Processando linhas 3501 a 4000...\n"
     ]
    },
    {
     "name": "stderr",
     "output_type": "stream",
     "text": [
      "Chunk 8: 100%|███████████████████████████████████████████████████████████████████████████████████████████████| 500/500 [03:32<00:00,  2.35it/s]\n"
     ]
    },
    {
     "name": "stdout",
     "output_type": "stream",
     "text": [
      "Arquivo 'dados_8.csv' salvo com sucesso!\n",
      "\n",
      "Processando linhas 4001 a 4500...\n"
     ]
    },
    {
     "name": "stderr",
     "output_type": "stream",
     "text": [
      "Chunk 9: 100%|███████████████████████████████████████████████████████████████████████████████████████████████| 500/500 [03:30<00:00,  2.38it/s]\n"
     ]
    },
    {
     "name": "stdout",
     "output_type": "stream",
     "text": [
      "Arquivo 'dados_9.csv' salvo com sucesso!\n",
      "\n",
      "Processando linhas 4501 a 4570...\n"
     ]
    },
    {
     "name": "stderr",
     "output_type": "stream",
     "text": [
      "Chunk 10: 100%|████████████████████████████████████████████████████████████████████████████████████████████████| 70/70 [00:34<00:00,  2.03it/s]"
     ]
    },
    {
     "name": "stdout",
     "output_type": "stream",
     "text": [
      "Arquivo 'dados_10.csv' salvo com sucesso!\n"
     ]
    },
    {
     "name": "stderr",
     "output_type": "stream",
     "text": [
      "\n"
     ]
    }
   ],
   "source": [
    "from tqdm import tqdm \n",
    "\n",
    "tool = language_tool_python.LanguageTool('pt-BR')\n",
    "\n",
    "def contar_erros_por_categoria(texto):\n",
    "    erros = tool.check(texto)\n",
    "    \n",
    "    categorias = {\"Ortografia\": 0,\n",
    "                  \"Gramática\": 0,\n",
    "                  \"Pontuação\": 0,\n",
    "                  \"Estilo\": 0,\n",
    "                  \"Concordância\": 0,\n",
    "                  \"Outros\": 0}\n",
    "    \n",
    "    for erro in erros:\n",
    "        if 'spell' in erro.category:\n",
    "            categorias[\"Ortografia\"] += 1\n",
    "        elif 'grammar' in erro.category:\n",
    "            categorias[\"Gramática\"] += 1\n",
    "        elif 'punctuation' in erro.category:\n",
    "            categorias[\"Pontuação\"] += 1\n",
    "        elif 'style' in erro.category:\n",
    "            categorias[\"Estilo\"] += 1\n",
    "        elif 'agreement' in erro.category:\n",
    "            categorias[\"Concordância\"] += 1\n",
    "        else:\n",
    "            categorias[\"Outros\"] += 1 \n",
    "    return categorias\n",
    "\n",
    "def processar_em_partes(df, chunk_size=500):\n",
    "    categorias = ['Ortografia', 'Gramática', 'Pontuação', 'Estilo', 'Concordância', 'Outros']\n",
    "    num_chunks = (len(df) + chunk_size - 1) // chunk_size \n",
    "\n",
    "    for i in range(num_chunks):\n",
    "        start = i * chunk_size\n",
    "        end = start + chunk_size\n",
    "        chunk = df.iloc[start:end].copy()  \n",
    "        \n",
    "        print(f\"\\nProcessando linhas {start + 1} a {min(end, len(df))}...\")  \n",
    "        \n",
    "        for index, row in tqdm(chunk.iterrows(), total=len(chunk), desc=f\"Chunk {i+1}\"):\n",
    "            contagem = contar_erros_por_categoria(row['essay'])\n",
    "            for categoria in categorias:\n",
    "                chunk.loc[index, categoria] = contagem.get(categoria, 0)\n",
    "\n",
    "        chunk.to_csv(f\"dados_{i+1}.csv\", index=False)\n",
    "        print(f\"Arquivo 'dados_{i+1}.csv' salvo com sucesso!\")\n",
    "\n",
    "processar_em_partes(df)"
   ]
  },
  {
   "cell_type": "markdown",
   "id": "7ddd4b96-122e-430b-84d2-bc9f280515e1",
   "metadata": {},
   "source": [
    "## LENDO OS ARQUIVOS SALVOS E OS UNINDO"
   ]
  },
  {
   "cell_type": "code",
   "execution_count": 31,
   "id": "e1e4e16a-5d7f-4b8a-9d9c-017de61e4121",
   "metadata": {},
   "outputs": [
    {
     "name": "stdout",
     "output_type": "stream",
     "text": [
      "Arquivos unidos e salvos como dados_unidos.csv.\n"
     ]
    }
   ],
   "source": [
    "dataframes = []\n",
    "\n",
    "for i in range(1, 11):\n",
    "    filename = f\"dados_{i}.csv\"\n",
    "    if os.path.exists(filename): \n",
    "        df = pd.read_csv(filename)  \n",
    "        dataframes.append(df)  \n",
    "    else:\n",
    "        print(f\"Arquivo {filename} não encontrado.\")\n",
    "\n",
    "df = pd.concat(dataframes, ignore_index=True)\n",
    "df.to_csv(\"DADOS.csv\", index=False)\n",
    "\n",
    "print(\"Arquivos unidos e salvos como dados_unidos.csv.\")"
   ]
  },
  {
   "cell_type": "markdown",
   "id": "4a7026a2-cdf1-46b7-a3eb-8196dfce97a2",
   "metadata": {},
   "source": [
    "### FAIXA DE NOTAS"
   ]
  },
  {
   "cell_type": "code",
   "execution_count": 34,
   "id": "89bc825c-881d-4cee-8bfa-6da6b1ea158d",
   "metadata": {},
   "outputs": [
    {
     "name": "stdout",
     "output_type": "stream",
     "text": [
      "   prompt                                            title  \\\n",
      "0      21  A greve dos caminhoneiros e a malha ferroviária   \n",
      "1      23                 Vossa excelência  Senador M. M.,   \n",
      "2      39                        A validade do impeachment   \n",
      "3      26      Podemos perceber que a sociedade brasileira   \n",
      "4       4              Comenta-se que o ex-presidente Lula   \n",
      "\n",
      "                                               essay  score possui_titulo  \\\n",
      "0  ['A grande importância dos caminhoneiros para ...    680           Sim   \n",
      "1  ['O senhor e eu já estamos cientes do projeto ...    680           Sim   \n",
      "2  ['É de conhecimento geral dos brasileiros o qu...    720           Sim   \n",
      "3  ['Podemos perceber que a sociedade brasileira ...    560           Sim   \n",
      "4  ['Comenta-se que o ex presidente Lula ex-presi...      0           Sim   \n",
      "\n",
      "   quant_de_palavras  Zero?  Língua Port  Tema e Gênero  Coerência  Coesão  \\\n",
      "0                341      1          160            160        120     120   \n",
      "1                233      1          160            160        120     120   \n",
      "2                409      1          120            160        160     160   \n",
      "3                207      1          120            120         80     120   \n",
      "4                209      0            0              0          0       0   \n",
      "\n",
      "   Prop de Interv  Distintas  Ortografia  Gramática  Pontuação  Estilo  \\\n",
      "0             120        196         0.0        0.0        0.0     0.0   \n",
      "1             120        144         0.0        0.0        0.0     0.0   \n",
      "2             120        246         0.0        0.0        0.0     0.0   \n",
      "3             120        136         0.0        0.0        0.0     0.0   \n",
      "4               0        140         0.0        0.0        0.0     0.0   \n",
      "\n",
      "   Concordância  Outros Faixa_de_Nota  \n",
      "0           0.0     5.0       601-700  \n",
      "1           0.0     2.0       601-700  \n",
      "2           0.0     6.0       701-800  \n",
      "3           0.0     1.0       501-600  \n",
      "4           0.0    11.0         0-100  \n"
     ]
    }
   ],
   "source": [
    "bins   = [0, 100, 200, 300, 400, 500, 600, 700, 800, 900, 1000]\n",
    "labels = ['0-100','101-200', '201-300', '301-400', '401-500', '501-600', '601-700', '701-800', '801-900', '901-1000']\n",
    "\n",
    "df['Faixa_de_Nota'] = pd.cut(df['score'], bins=bins, labels=labels, right=False)\n",
    "print(df.head())"
   ]
  },
  {
   "cell_type": "markdown",
   "id": "6e1a8292-6f6e-4b0e-953f-634457535178",
   "metadata": {},
   "source": [
    "## PACOTE spaCY"
   ]
  },
  {
   "cell_type": "code",
   "execution_count": 43,
   "id": "9f2a0e38-e167-4d1a-9fac-545412fb870f",
   "metadata": {},
   "outputs": [
    {
     "name": "stdout",
     "output_type": "stream",
     "text": [
      "   prompt                                            title  \\\n",
      "0      21  A greve dos caminhoneiros e a malha ferroviária   \n",
      "1      23                 Vossa excelência  Senador M. M.,   \n",
      "2      39                        A validade do impeachment   \n",
      "3      26      Podemos perceber que a sociedade brasileira   \n",
      "4       4              Comenta-se que o ex-presidente Lula   \n",
      "\n",
      "                                               essay  score possui_titulo  \\\n",
      "0  ['A grande importância dos caminhoneiros para ...    680           Sim   \n",
      "1  ['O senhor e eu já estamos cientes do projeto ...    680           Sim   \n",
      "2  ['É de conhecimento geral dos brasileiros o qu...    720           Sim   \n",
      "3  ['Podemos perceber que a sociedade brasileira ...    560           Sim   \n",
      "4  ['Comenta-se que o ex presidente Lula ex-presi...      0           Sim   \n",
      "\n",
      "   quant_de_palavras  Zero?  Língua Port  Tema e Gênero  Coerência  ...  \\\n",
      "0                341      1          160            160        120  ...   \n",
      "1                233      1          160            160        120  ...   \n",
      "2                409      1          120            160        160  ...   \n",
      "3                207      1          120            120         80  ...   \n",
      "4                209      0            0              0          0  ...   \n",
      "\n",
      "   Pontuação  Estilo  Concordância  Outros  Faixa_de_Nota  \\\n",
      "0        0.0     0.0           0.0     5.0        601-700   \n",
      "1        0.0     0.0           0.0     2.0        601-700   \n",
      "2        0.0     0.0           0.0     6.0        701-800   \n",
      "3        0.0     0.0           0.0     1.0        501-600   \n",
      "4        0.0     0.0           0.0    11.0          0-100   \n",
      "\n",
      "                                                 doc  \\\n",
      "0  ([, ', A, grande, importância, dos, caminhonei...   \n",
      "1  ([, ', O, senhor, e, eu, já, estamos, cientes,...   \n",
      "2  ([, ', É, de, conhecimento, geral, dos, brasil...   \n",
      "3  ([, ', Podemos, perceber, que, a, sociedade, b...   \n",
      "4  ([, ', Comenta-se, que, o, ex, presidente, Lul...   \n",
      "\n",
      "                                              tokens  \\\n",
      "0  [[, ', A, grande, importância, dos, caminhonei...   \n",
      "1  [[, ', O, senhor, e, eu, já, estamos, cientes,...   \n",
      "2  [[, ', É, de, conhecimento, geral, dos, brasil...   \n",
      "3  [[, ', Podemos, perceber, que, a, sociedade, b...   \n",
      "4  [[, ', Comenta-se, que, o, ex, presidente, Lul...   \n",
      "\n",
      "                                         lematizacao  \\\n",
      "0  [[, ', o, grande, importância, de o, caminhone...   \n",
      "1  [[, ', o, senhor, e, eu, já, estar, ciente, de...   \n",
      "2  [[, ', ser, de, conhecimento, geral, de o, bra...   \n",
      "3  [[, ', poder, perceber, que, o, sociedade, bra...   \n",
      "4  [[, ', comentar se, que, o, ex, presidente, Lu...   \n",
      "\n",
      "                                           entidades  \\\n",
      "0  [(DataFolha, MISC), (Brasil, LOC), (Michel Tem...   \n",
      "1  [(O senhor e eu, MISC), (Projeto de Lei, MISC)...   \n",
      "2  [(Impeachment de Dilma, LOC), (Collor, PER), (...   \n",
      "3  [(OCDE, ORG), (Organização para Cooperação e D...   \n",
      "4  [(Lula, PER), (Lula, PER), (Supremo Tribunal d...   \n",
      "\n",
      "                                                 pos  \n",
      "0  [([, PUNCT), (', PUNCT), (A, DET), (grande, AD...  \n",
      "1  [([, PUNCT), (', PUNCT), (O, DET), (senhor, NO...  \n",
      "2  [([, PUNCT), (', PUNCT), (É, AUX), (de, ADP), ...  \n",
      "3  [([, PUNCT), (', PUNCT), (Podemos, VERB), (per...  \n",
      "4  [([, PUNCT), (', PUNCT), (Comenta-se, VERB), (...  \n",
      "\n",
      "[5 rows x 25 columns]\n"
     ]
    }
   ],
   "source": [
    "def processar_texto(texto):\n",
    "    doc = nlp(texto)\n",
    "    return doc\n",
    "\n",
    "df['doc']         = df['essay'].apply(processar_texto)\n",
    "df['tokens']      = df['doc'].apply(lambda doc: [token.text for token in doc])\n",
    "df['lematizacao'] = df['doc'].apply(lambda doc: [token.lemma_ for token in doc])\n",
    "df['entidades']   = df['doc'].apply(lambda doc: [(ent.text, ent.label_) for ent in doc.ents])\n",
    "df['pos']         = df['doc'].apply(lambda doc: [(token.text, token.pos_) for token in doc])\n",
    "\n",
    "print(df.head())"
   ]
  },
  {
   "cell_type": "markdown",
   "id": "c683ab14-d2d4-49c3-b421-b5e560007793",
   "metadata": {},
   "source": [
    "### PALAVRAS MAIS FREQUÊNTES E SUAS FREQUÊNCIAS"
   ]
  },
  {
   "cell_type": "code",
   "execution_count": 45,
   "id": "76f7c17d-ffab-4c55-8018-83b5c628f889",
   "metadata": {},
   "outputs": [],
   "source": [
    "stop_words = set(stopwords.words('portuguese')) \n",
    "\n",
    "def get_top_words_and_frequencies(text, top_n=5):\n",
    "    text = re.sub(r'[^\\w\\s]', '', text.lower())\n",
    "    words = [word for word in text.split() if word not in stop_words]\n",
    "    word_counts = Counter(words)\n",
    "    most_common = word_counts.most_common(top_n)\n",
    "    words, frequencies = zip(*most_common) if most_common else ([], [])\n",
    "    return list(words), list(frequencies)\n",
    "\n",
    "top_n = 5\n",
    "df[['top_words', 'frequencies']] = df['essay'].apply(lambda x: pd.Series(get_top_words_and_frequencies(x, top_n)))\n",
    "\n",
    "for i in range(top_n):\n",
    "    df[f'word_{i+1}'] = df['top_words'].apply(lambda x: x[i] if i < len(x) else None)\n",
    "    df[f'freq_{i+1}'] = df['frequencies'].apply(lambda x: x[i] if i < len(x) else None)\n",
    "\n",
    "df.drop(['top_words', 'frequencies'], axis=1, inplace=True)"
   ]
  },
  {
   "cell_type": "code",
   "execution_count": 47,
   "id": "bed74dd8-5014-4516-bf2e-85366aed240f",
   "metadata": {},
   "outputs": [
    {
     "name": "stdout",
     "output_type": "stream",
     "text": [
      "   prompt                                            title  \\\n",
      "0      21  A greve dos caminhoneiros e a malha ferroviária   \n",
      "1      23                 Vossa excelência  Senador M. M.,   \n",
      "2      39                        A validade do impeachment   \n",
      "3      26      Podemos perceber que a sociedade brasileira   \n",
      "4       4              Comenta-se que o ex-presidente Lula   \n",
      "\n",
      "                                               essay  score possui_titulo  \\\n",
      "0  ['A grande importância dos caminhoneiros para ...    680           Sim   \n",
      "1  ['O senhor e eu já estamos cientes do projeto ...    680           Sim   \n",
      "2  ['É de conhecimento geral dos brasileiros o qu...    720           Sim   \n",
      "3  ['Podemos perceber que a sociedade brasileira ...    560           Sim   \n",
      "4  ['Comenta-se que o ex presidente Lula ex-presi...      0           Sim   \n",
      "\n",
      "   quant_de_palavras  Zero?  Língua Port  Tema e Gênero  Coerência  ...  \\\n",
      "0                341      1          160            160        120  ...   \n",
      "1                233      1          160            160        120  ...   \n",
      "2                409      1          120            160        160  ...   \n",
      "3                207      1          120            120         80  ...   \n",
      "4                209      0            0              0          0  ...   \n",
      "\n",
      "       word_1  freq_1       word_2  freq_2           word_3  freq_3   word_4  \\\n",
      "0  transporte       7        greve       4          fazendo       4    porém   \n",
      "1        pois       5     produtos       4           senhor       3  projeto   \n",
      "2  presidente       5  impeachment       4        corrupção       3     ruas   \n",
      "3   sociedade       3    professor       3  desenvolvimento       3  docente   \n",
      "4      prisão       3        disso       3             lula       2     após   \n",
      "\n",
      "   freq_4       word_5 freq_5  \n",
      "0       3  mercadorias      3  \n",
      "1       3       rótulo      3  \n",
      "2       3        dilma      3  \n",
      "3       3  valorização      2  \n",
      "4       2      justiça      2  \n",
      "\n",
      "[5 rows x 35 columns]\n"
     ]
    }
   ],
   "source": [
    "print(df.head())"
   ]
  },
  {
   "cell_type": "code",
   "execution_count": 49,
   "id": "8e4661a4-c5d1-4af8-bd25-7a432ff3da31",
   "metadata": {},
   "outputs": [],
   "source": [
    "df.to_csv(\"DADOS_FINAL.csv\", index=False) "
   ]
  },
  {
   "cell_type": "markdown",
   "id": "dc2549ba-ae2c-46ac-9a6e-f0c931206368",
   "metadata": {},
   "source": [
    "## Análise Exploratória"
   ]
  },
  {
   "cell_type": "code",
   "execution_count": 51,
   "id": "d7b07574-a662-41ed-8bfb-40f740e82cfb",
   "metadata": {},
   "outputs": [],
   "source": [
    "df = pd.read_csv(r'C:\\Users\\mathe\\Área de Trabalho\\Cases\\COGNA\\DADOS_FINAL.csv')"
   ]
  },
  {
   "cell_type": "markdown",
   "id": "af9f00ed-cabf-4480-a035-4bfd5e7c1ea9",
   "metadata": {},
   "source": [
    "#### RETIRANDO AS LINHAS DE SCORE IGUAIS A ZERO"
   ]
  },
  {
   "cell_type": "code",
   "execution_count": 54,
   "id": "a2abdbac-67ce-44bb-8841-ec5ccf654439",
   "metadata": {},
   "outputs": [],
   "source": [
    "df = df[df['score'] != 0]"
   ]
  },
  {
   "cell_type": "markdown",
   "id": "0f4ea65f-888c-4084-aa92-f2253d022c4c",
   "metadata": {},
   "source": [
    "#### AJUSTANDO AS COLUNAS"
   ]
  },
  {
   "cell_type": "code",
   "execution_count": 57,
   "id": "625128c8-b7a4-443d-a678-104a4a1a666c",
   "metadata": {},
   "outputs": [],
   "source": [
    "df['title']         = df['title'].astype('category')\n",
    "df['essay']         = df['essay'].astype('category')\n",
    "df['possui_titulo'] = df['possui_titulo'].astype('category')\n",
    "df['Zero?']         = df['Zero?'].astype('category')\n",
    "df['Faixa_de_Nota'] = df['Faixa_de_Nota'].astype('category')\n",
    "\n",
    "df['Língua Port']    = pd.to_numeric(df['Língua Port'],    errors = 'coerce')\n",
    "df['Tema e Gênero']  = pd.to_numeric(df['Tema e Gênero'],  errors = 'coerce')\n",
    "df['Coerência']      = pd.to_numeric(df['Coerência'],      errors = 'coerce')\n",
    "df['Coesão']         = pd.to_numeric(df['Coesão'],         errors = 'coerce')\n",
    "df['Prop de Interv'] = pd.to_numeric(df['Prop de Interv'], errors = 'coerce')\n",
    "\n",
    "df['freq_1'] = pd.to_numeric(df['freq_1'], errors = 'coerce')\n",
    "df['freq_2'] = pd.to_numeric(df['freq_2'], errors = 'coerce')\n",
    "df['freq_3'] = pd.to_numeric(df['freq_3'], errors = 'coerce')\n",
    "df['freq_4'] = pd.to_numeric(df['freq_4'], errors = 'coerce')\n",
    "df['freq_5'] = pd.to_numeric(df['freq_5'], errors = 'coerce')"
   ]
  },
  {
   "cell_type": "markdown",
   "id": "794345d7-e48f-4723-9125-fb696bf636b0",
   "metadata": {},
   "source": [
    "#### INFORMAÇÃO SOBRE AS COLUNAS NUMÉRICAS"
   ]
  },
  {
   "cell_type": "code",
   "execution_count": 60,
   "id": "d12bab2a-ea8a-4f55-9f75-6eb953b50679",
   "metadata": {},
   "outputs": [
    {
     "name": "stdout",
     "output_type": "stream",
     "text": [
      "            prompt        score  quant_de_palavras  Língua Port  \\\n",
      "count  4488.000000  4488.000000        4488.000000  4488.000000   \n",
      "mean     55.679144   625.249554         289.706996   130.071301   \n",
      "std      20.627983   157.611660          83.093316    27.569137   \n",
      "min       0.000000    40.000000          68.000000     0.000000   \n",
      "25%      46.000000   520.000000         230.000000   120.000000   \n",
      "50%      56.000000   600.000000         288.000000   120.000000   \n",
      "75%      73.000000   720.000000         345.000000   160.000000   \n",
      "max      85.000000  1000.000000         918.000000   200.000000   \n",
      "\n",
      "       Tema e Gênero    Coerência       Coesão  Prop de Interv    Distintas  \\\n",
      "count    4488.000000  4488.000000  4488.000000     4488.000000  4488.000000   \n",
      "mean      131.862745   115.427807   133.021390      114.866310   174.852273   \n",
      "std        36.157135    35.198120    38.899017       48.277021    42.353062   \n",
      "min         0.000000     0.000000     0.000000        0.000000    54.000000   \n",
      "25%       120.000000    80.000000   120.000000       80.000000   144.750000   \n",
      "50%       120.000000   120.000000   120.000000      120.000000   174.000000   \n",
      "75%       160.000000   120.000000   160.000000      160.000000   205.000000   \n",
      "max       200.000000   200.000000   200.000000      200.000000   398.000000   \n",
      "\n",
      "       Ortografia  Gramática  Pontuação  Estilo  Concordância       Outros  \\\n",
      "count      4488.0     4488.0     4488.0  4488.0        4488.0  4488.000000   \n",
      "mean          0.0        0.0        0.0     0.0           0.0    10.897950   \n",
      "std           0.0        0.0        0.0     0.0           0.0     8.306064   \n",
      "min           0.0        0.0        0.0     0.0           0.0     0.000000   \n",
      "25%           0.0        0.0        0.0     0.0           0.0     6.000000   \n",
      "50%           0.0        0.0        0.0     0.0           0.0     9.000000   \n",
      "75%           0.0        0.0        0.0     0.0           0.0    13.000000   \n",
      "max           0.0        0.0        0.0     0.0           0.0   123.000000   \n",
      "\n",
      "            freq_1       freq_2       freq_3       freq_4       freq_5  \n",
      "count  4488.000000  4488.000000  4488.000000  4488.000000  4488.000000  \n",
      "mean      4.860963     3.724153     3.187166     2.856061     2.614082  \n",
      "std       2.544248     1.178186     0.923263     0.784718     0.692471  \n",
      "min       1.000000     1.000000     1.000000     1.000000     1.000000  \n",
      "25%       4.000000     3.000000     3.000000     2.000000     2.000000  \n",
      "50%       4.000000     4.000000     3.000000     3.000000     3.000000  \n",
      "75%       6.000000     4.000000     4.000000     3.000000     3.000000  \n",
      "max     114.000000    10.000000     8.000000     7.000000     6.000000  \n"
     ]
    }
   ],
   "source": [
    "resumo_numerico = df.describe(include=[np.number])\n",
    "print(resumo_numerico)"
   ]
  },
  {
   "cell_type": "code",
   "execution_count": 66,
   "id": "6a9a9f5f-b839-4803-800f-4edebc480267",
   "metadata": {},
   "outputs": [
    {
     "name": "stdout",
     "output_type": "stream",
     "text": [
      "                       score    quant_de_palavras    Língua Port    Tema e Gênero    Coerência      Coesão    Prop de Interv    Distintas       Outros\n",
      "-----------------  ---------  -------------------  -------------  ---------------  -----------  ----------  ----------------  -----------  -----------\n",
      "score              1                     0.425278       0.722877       0.845965      0.88097    0.893466           0.856131      0.45286    0.0080837\n",
      "quant_de_palavras  0.425278              1              0.241035       0.430772      0.388381   0.378306           0.340166      0.957025   0.166391\n",
      "Língua Port        0.722877              0.241035       1              0.558362      0.531789   0.644781           0.463504      0.260185  -0.100272\n",
      "Tema e Gênero      0.845965              0.430772       0.558362       1             0.698829   0.718181           0.605863      0.456603   0.00634717\n",
      "Coerência          0.88097               0.388381       0.531789       0.698829      1          0.729229           0.732402      0.413427   0.0293228\n",
      "Coesão             0.893466              0.378306       0.644781       0.718181      0.729229   1                  0.67342       0.399891   0.00254101\n",
      "Prop de Interv     0.856131              0.340166       0.463504       0.605863      0.732402   0.67342            1             0.36428    0.0554724\n",
      "Distintas          0.45286               0.957025       0.260185       0.456603      0.413427   0.399891           0.36428       1          0.172268\n",
      "Outros             0.0080837             0.166391      -0.100272       0.00634717    0.0293228  0.00254101         0.0554724     0.172268   1\n"
     ]
    }
   ],
   "source": [
    "columns_to_drop    = ['prompt', 'freq_1', 'freq_2', 'freq_3', 'freq_4', 'freq_5', \n",
    "                      'Ortografia', 'Gramática', 'Pontuação', 'Estilo', 'Concordância']\n",
    "cleaned_df         = df.drop(columns=columns_to_drop, axis=1, errors='ignore')\n",
    "numeric_df         = cleaned_df.select_dtypes(include=[np.number])\n",
    "correlation_matrix = numeric_df.corr()\n",
    "\n",
    "print(tabulate(correlation_matrix, headers='keys', tablefmt='simple'))"
   ]
  },
  {
   "cell_type": "markdown",
   "id": "a875a63a-84f2-4aca-972b-9879c2d76549",
   "metadata": {},
   "source": [
    "#### DISTRIBUIÇÃO DE RESULTADOS POR FAIXA"
   ]
  },
  {
   "cell_type": "code",
   "execution_count": 69,
   "id": "10a2f976-3242-4be3-a34d-8584e81f9df5",
   "metadata": {},
   "outputs": [
    {
     "data": {
      "image/png": "[encoded data removed]",
      "text/plain": [
       "<Figure size 1000x600 with 1 Axes>"
      ]
     },
     "metadata": {},
     "output_type": "display_data"
    }
   ],
   "source": [
    "contagem_faixa = df['Faixa_de_Nota'].value_counts().sort_index()\n",
    "\n",
    "plt.figure(figsize=(10, 6))\n",
    "bars = contagem_faixa.plot(kind='bar', color='skyblue', edgecolor='black', linewidth=1.2)\n",
    "\n",
    "plt.title('Distribuição de Notas', fontsize=16, fontweight='bold', color='darkblue')\n",
    "plt.xlabel('Notas', fontsize=14, fontweight='bold')\n",
    "plt.ylabel('Quantidade de Pessoas', fontsize=14, fontweight='bold')\n",
    "plt.xticks(rotation=45, ha='right', fontsize=12)\n",
    "plt.yticks(fontsize=12)\n",
    "plt.grid(axis='y', linestyle='--', alpha=0.7)\n",
    "\n",
    "for p in bars.patches:\n",
    "    bars.annotate(f'{p.get_height()}', \n",
    "                  (p.get_x() + p.get_width() / 2., p.get_height()), \n",
    "                  ha='center', \n",
    "                  va='center', \n",
    "                  fontsize=12, \n",
    "                  color='black', \n",
    "                  xytext=(0, 10), \n",
    "                  textcoords='offset points')\n",
    "    \n",
    "plt.tight_layout()\n",
    "plt.show()"
   ]
  },
  {
   "cell_type": "code",
   "execution_count": 71,
   "id": "2eb1be88-94a4-474f-8a0f-70079a819de3",
   "metadata": {},
   "outputs": [
    {
     "data": {
      "image/png": "[encoded data removed]",
      "text/plain": [
       "<Figure size 800x600 with 1 Axes>"
      ]
     },
     "metadata": {},
     "output_type": "display_data"
    }
   ],
   "source": [
    "plt.figure(figsize=(8, 6))\n",
    "sns.boxplot(x='possui_titulo', y='score', data=df, palette='Set2', hue='possui_titulo')\n",
    "\n",
    "plt.legend([],[], frameon=False)\n",
    "\n",
    "plt.title('Boxplot', fontsize=16)\n",
    "plt.xlabel('Possui título?', fontsize=12)\n",
    "plt.ylabel('Nota', fontsize=12)\n",
    "plt.show()"
   ]
  },
  {
   "cell_type": "markdown",
   "id": "659952f2-1d41-4bdf-99e6-c8bca20abb6a",
   "metadata": {},
   "source": [
    "### TESTES ESTATÌSTICOS"
   ]
  },
  {
   "cell_type": "markdown",
   "id": "72af7e31-9c78-403f-b923-60bfc7198629",
   "metadata": {},
   "source": [
    "#### VERIFICANDO NORMALIDADE NAS VARIÁVEIS NUMÉRICAS"
   ]
  },
  {
   "cell_type": "markdown",
   "id": "52bb72e9-e91d-45f9-a8ae-cdb61d38c18c",
   "metadata": {},
   "source": [
    "##### SCORE"
   ]
  },
  {
   "cell_type": "code",
   "execution_count": 76,
   "id": "9a383d92-9697-43c5-b193-494fe2cb6d00",
   "metadata": {},
   "outputs": [
    {
     "name": "stdout",
     "output_type": "stream",
     "text": [
      "Estatística do teste: 0.9883744560454003, p-valor: 8.965881584367376e-19\n",
      "Os dados não seguem uma distribuição normal (rejeita H0).\n"
     ]
    }
   ],
   "source": [
    "stat, p = shapiro(df['score'])\n",
    "print(f\"Estatística do teste: {stat}, p-valor: {p}\")\n",
    "\n",
    "if p > 0.05:\n",
    "    print(\"Os dados seguem uma distribuição normal (falha em rejeitar H0).\")\n",
    "else:\n",
    "    print(\"Os dados não seguem uma distribuição normal (rejeita H0).\")"
   ]
  },
  {
   "cell_type": "code",
   "execution_count": 78,
   "id": "c08ecb92-c9af-4b93-b039-9fc7abb56c0f",
   "metadata": {},
   "outputs": [
    {
     "name": "stdout",
     "output_type": "stream",
     "text": [
      "Estatística do teste: 1.0, p-valor: 0.0\n",
      "Os dados não seguem uma distribuição normal (rejeita H0).\n"
     ]
    }
   ],
   "source": [
    "from scipy.stats import kstest\n",
    "\n",
    "stat, p = kstest(df['score'], 'norm')\n",
    "print(f\"Estatística do teste: {stat}, p-valor: {p}\")\n",
    "\n",
    "if p > 0.05:\n",
    "    print(\"Os dados seguem uma distribuição normal (falha em rejeitar H0).\")\n",
    "else:\n",
    "    print(\"Os dados não seguem uma distribuição normal (rejeita H0).\")"
   ]
  },
  {
   "cell_type": "markdown",
   "id": "55923f70-406d-4982-881c-5b065f1ac521",
   "metadata": {},
   "source": [
    "##### QUANTIDADE DE PALAVRAS"
   ]
  },
  {
   "cell_type": "code",
   "execution_count": 81,
   "id": "453f7fb7-6035-4b2a-bd52-4bbfbbb11457",
   "metadata": {},
   "outputs": [
    {
     "name": "stdout",
     "output_type": "stream",
     "text": [
      "Estatística do teste: 0.9894683060007624, p-valor: 8.607932190085075e-18\n",
      "Os dados não seguem uma distribuição normal (rejeita H0).\n"
     ]
    }
   ],
   "source": [
    "stat, p = shapiro(df['quant_de_palavras'])\n",
    "print(f\"Estatística do teste: {stat}, p-valor: {p}\")\n",
    "\n",
    "if p > 0.05:\n",
    "    print(\"Os dados seguem uma distribuição normal (falha em rejeitar H0).\")\n",
    "else:\n",
    "    print(\"Os dados não seguem uma distribuição normal (rejeita H0).\")"
   ]
  },
  {
   "cell_type": "code",
   "execution_count": 83,
   "id": "17d0a30d-82dd-4bff-abde-f1a14893dde6",
   "metadata": {},
   "outputs": [
    {
     "name": "stdout",
     "output_type": "stream",
     "text": [
      "Estatística do teste: 1.0, p-valor: 0.0\n",
      "Os dados não seguem uma distribuição normal (rejeita H0).\n"
     ]
    }
   ],
   "source": [
    "from scipy.stats import kstest\n",
    "\n",
    "stat, p = kstest(df['quant_de_palavras'], 'norm')\n",
    "print(f\"Estatística do teste: {stat}, p-valor: {p}\")\n",
    "\n",
    "if p > 0.05:\n",
    "    print(\"Os dados seguem uma distribuição normal (falha em rejeitar H0).\")\n",
    "else:\n",
    "    print(\"Os dados não seguem uma distribuição normal (rejeita H0).\")"
   ]
  },
  {
   "cell_type": "markdown",
   "id": "eb178668-e619-49db-9304-dd96e92da480",
   "metadata": {},
   "source": [
    "##### DISTINTAS"
   ]
  },
  {
   "cell_type": "code",
   "execution_count": 86,
   "id": "50a91783-50dd-4e91-baba-db4e02fa5949",
   "metadata": {},
   "outputs": [
    {
     "name": "stdout",
     "output_type": "stream",
     "text": [
      "Estatística do teste: 0.9963613396817472, p-valor: 4.9611379249811166e-09\n",
      "Os dados não seguem uma distribuição normal (rejeita H0).\n"
     ]
    }
   ],
   "source": [
    "stat, p = shapiro(df['Distintas'])\n",
    "print(f\"Estatística do teste: {stat}, p-valor: {p}\")\n",
    "\n",
    "if p > 0.05:\n",
    "    print(\"Os dados seguem uma distribuição normal (falha em rejeitar H0).\")\n",
    "else:\n",
    "    print(\"Os dados não seguem uma distribuição normal (rejeita H0).\")"
   ]
  },
  {
   "cell_type": "code",
   "execution_count": 88,
   "id": "7add4ad4-b474-4689-b6bd-6281afd1fd45",
   "metadata": {},
   "outputs": [
    {
     "name": "stdout",
     "output_type": "stream",
     "text": [
      "Estatística do teste: 1.0, p-valor: 0.0\n",
      "Os dados não seguem uma distribuição normal (rejeita H0).\n"
     ]
    }
   ],
   "source": [
    "from scipy.stats import kstest\n",
    "\n",
    "stat, p = kstest(df['Distintas'], 'norm')\n",
    "print(f\"Estatística do teste: {stat}, p-valor: {p}\")\n",
    "\n",
    "if p > 0.05:\n",
    "    print(\"Os dados seguem uma distribuição normal (falha em rejeitar H0).\")\n",
    "else:\n",
    "     print(\"Os dados não seguem uma distribuição normal (rejeita H0).\")"
   ]
  },
  {
   "cell_type": "markdown",
   "id": "8a21bcbe-cdaf-4ae8-ad50-37525045c5c2",
   "metadata": {},
   "source": [
    "##### ERROS"
   ]
  },
  {
   "cell_type": "code",
   "execution_count": 93,
   "id": "1c27371d-b88a-410b-a351-83b5caddafd3",
   "metadata": {},
   "outputs": [
    {
     "name": "stdout",
     "output_type": "stream",
     "text": [
      "Estatística do teste: 0.7738139953006231, p-valor: 1.0925408091801252e-61\n",
      "Os dados não seguem uma distribuição normal (rejeita H0).\n"
     ]
    }
   ],
   "source": [
    "stat, p = shapiro(df['Outros'])\n",
    "print(f\"Estatística do teste: {stat}, p-valor: {p}\")\n",
    "\n",
    "if p > 0.05:\n",
    "    print(\"Os dados seguem uma distribuição normal (falha em rejeitar H0).\")\n",
    "else:\n",
    "    print(\"Os dados não seguem uma distribuição normal (rejeita H0).\")"
   ]
  },
  {
   "cell_type": "code",
   "execution_count": 95,
   "id": "489b3d18-8a64-44fe-814b-64de89a48957",
   "metadata": {},
   "outputs": [
    {
     "name": "stdout",
     "output_type": "stream",
     "text": [
      "Estatística do teste: 0.9600930053067227, p-valor: 0.0\n",
      "Os dados não seguem uma distribuição normal (rejeita H0).\n"
     ]
    }
   ],
   "source": [
    "from scipy.stats import kstest\n",
    "\n",
    "stat, p = kstest(df['Outros'], 'norm')\n",
    "print(f\"Estatística do teste: {stat}, p-valor: {p}\")\n",
    "\n",
    "if p > 0.05:\n",
    "    print(\"Os dados seguem uma distribuição normal (falha em rejeitar H0).\")\n",
    "else:\n",
    "     print(\"Os dados não seguem uma distribuição normal (rejeita H0).\")"
   ]
  },
  {
   "cell_type": "markdown",
   "id": "f41ab6f7-e0be-4f23-a26f-d38a388e63a1",
   "metadata": {},
   "source": [
    "#### TESTE DE CORRELAÇÃO ENTRE SCORE E AS VARIÁVEIS NUMÉRICAS"
   ]
  },
  {
   "cell_type": "code",
   "execution_count": 98,
   "id": "dee2511d-5c7e-46be-9738-0d0531913450",
   "metadata": {},
   "outputs": [
    {
     "name": "stdout",
     "output_type": "stream",
     "text": [
      "Coeficiente de correlação de Spearman: 0.4447\n",
      "p-valor: 0.0000\n",
      "Existe uma correlação monotônica significativa entre as variáveis.\n"
     ]
    }
   ],
   "source": [
    "from scipy.stats import spearmanr\n",
    "\n",
    "spearman_corr, spearman_p = spearmanr(df['score'], df['quant_de_palavras'])\n",
    "\n",
    "print(f\"Coeficiente de correlação de Spearman: {spearman_corr:.4f}\")\n",
    "print(f\"p-valor: {spearman_p:.4f}\")\n",
    "\n",
    "if spearman_p < 0.05:\n",
    "    print(\"Existe uma correlação monotônica significativa entre as variáveis.\")\n",
    "else:\n",
    "    print(\"Não existe uma correlação monotônica significativa entre as variáveis.\")"
   ]
  },
  {
   "cell_type": "code",
   "execution_count": 100,
   "id": "bf1854d5-3d97-4249-804b-3aaaf00d33e0",
   "metadata": {},
   "outputs": [
    {
     "name": "stdout",
     "output_type": "stream",
     "text": [
      "Coeficiente de correlação de Spearman: 0.4588\n",
      "p-valor: 0.0000\n",
      "Existe uma correlação monotônica significativa entre as variáveis.\n"
     ]
    }
   ],
   "source": [
    "from scipy.stats import spearmanr\n",
    "\n",
    "spearman_corr, spearman_p = spearmanr(df['score'], df['Distintas'])\n",
    "\n",
    "print(f\"Coeficiente de correlação de Spearman: {spearman_corr:.4f}\")\n",
    "print(f\"p-valor: {spearman_p:.4f}\")\n",
    "\n",
    "if spearman_p < 0.05:\n",
    "    print(\"Existe uma correlação monotônica significativa entre as variáveis.\")\n",
    "else:\n",
    "    print(\"Não existe uma correlação monotônica significativa entre as variáveis.\")"
   ]
  },
  {
   "cell_type": "code",
   "execution_count": 104,
   "id": "04a5637c-604d-41c7-bfaa-5e2858921987",
   "metadata": {},
   "outputs": [
    {
     "name": "stdout",
     "output_type": "stream",
     "text": [
      "Coeficiente de correlação de Spearman: 0.0093\n",
      "p-valor: 0.5330\n",
      "Não existe uma correlação monotônica significativa entre as variáveis.\n"
     ]
    }
   ],
   "source": [
    "from scipy.stats import spearmanr\n",
    "\n",
    "spearman_corr, spearman_p = spearmanr(df['score'], df['Outros'])\n",
    "\n",
    "print(f\"Coeficiente de correlação de Spearman: {spearman_corr:.4f}\")\n",
    "print(f\"p-valor: {spearman_p:.4f}\")\n",
    "\n",
    "if spearman_p < 0.05:\n",
    "    print(\"Existe uma correlação monotônica significativa entre as variáveis.\")\n",
    "else:\n",
    "    print(\"Não existe uma correlação monotônica significativa entre as variáveis.\")"
   ]
  },
  {
   "cell_type": "markdown",
   "id": "1a83cfa3-00a4-45d1-a4e9-ddeba8a45aed",
   "metadata": {},
   "source": [
    "#### TESTE DE CORRELAÇÃO ENTRE SCORE E QUALITATIVAS"
   ]
  },
  {
   "cell_type": "code",
   "execution_count": 107,
   "id": "d14d8c14-7190-4012-905c-c36794ef2882",
   "metadata": {},
   "outputs": [
    {
     "name": "stdout",
     "output_type": "stream",
     "text": [
      "Estatística de teste: 1265717.5000, p-valor: 0.3247\n",
      "Falhamos em rejeitar a hipótese nula: não há evidências de diferença significativa entre os grupos.\n"
     ]
    }
   ],
   "source": [
    "from scipy.stats import mannwhitneyu\n",
    "\n",
    "grupo1 = df[df['possui_titulo'] == 'Não']['score']\n",
    "grupo2 = df[df['possui_titulo'] == 'Sim']['score']\n",
    "\n",
    "stat, p = mannwhitneyu(grupo1, grupo2)\n",
    "alpha = 0.05 \n",
    "\n",
    "print(f'Estatística de teste: {stat:.4f}, p-valor: {p:.4f}')\n",
    "if p < alpha:\n",
    "    print(\"Rejeitamos a hipótese nula: existe uma diferença significativa entre os grupos.\")\n",
    "else:\n",
    "    print(\"Falhamos em rejeitar a hipótese nula: não há evidências de diferença significativa entre os grupos.\")"
   ]
  },
  {
   "cell_type": "code",
   "execution_count": null,
   "id": "bd4ff0bd-df2c-40c3-86cc-dfb062b29796",
   "metadata": {},
   "outputs": [],
   "source": []
  }
 ],
 "metadata": {
  "kernelspec": {
   "display_name": "Python 3 (ipykernel)",
   "language": "python",
   "name": "python3"
  },
  "language_info": {
   "codemirror_mode": {
    "name": "ipython",
    "version": 3
   },
   "file_extension": ".py",
   "mimetype": "text/x-python",
   "name": "python",
   "nbconvert_exporter": "python",
   "pygments_lexer": "ipython3",
   "version": "3.12.3"
  }
 },
 "nbformat": 4,
 "nbformat_minor": 5
}
